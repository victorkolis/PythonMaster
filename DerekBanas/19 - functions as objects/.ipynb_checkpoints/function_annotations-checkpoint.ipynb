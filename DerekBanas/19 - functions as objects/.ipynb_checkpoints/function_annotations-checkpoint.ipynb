{
 "cells": [
  {
   "cell_type": "code",
   "execution_count": 4,
   "metadata": {},
   "outputs": [
    {
     "name": "stdout",
     "output_type": "stream",
     "text": [
      "Name: Victor Kolis\n",
      "Age: 26\n",
      "Weight: 172.4\n",
      "Victor Kolis is 26 years old and weighs 172.4\n",
      "{'name': <class 'str'>, 'age': <class 'int'>, 'weight': <class 'float'>, 'return': <class 'str'>}\n"
     ]
    }
   ],
   "source": [
    "def random_function(name: str, age: int, weight: float) -> str:\n",
    "    print('Name:', name)\n",
    "    print('Age:', age)\n",
    "    print('Weight:', weight)\n",
    "    return '{} is {} years old and weighs {}'.format(name, age, weight)\n",
    "\n",
    "print(random_function('Victor Kolis', 26, 172.4))\n",
    "print(random_function.__annotations__)\n"
   ]
  }
 ],
 "metadata": {
  "kernelspec": {
   "display_name": "Python 3",
   "language": "python",
   "name": "python3"
  },
  "language_info": {
   "codemirror_mode": {
    "name": "ipython",
    "version": 3
   },
   "file_extension": ".py",
   "mimetype": "text/x-python",
   "name": "python",
   "nbconvert_exporter": "python",
   "pygments_lexer": "ipython3",
   "version": "3.7.6"
  }
 },
 "nbformat": 4,
 "nbformat_minor": 4
}
