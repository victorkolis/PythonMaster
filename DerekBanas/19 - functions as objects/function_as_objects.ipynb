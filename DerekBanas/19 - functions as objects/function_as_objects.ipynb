{
 "cells": [
  {
   "cell_type": "markdown",
   "metadata": {},
   "source": [
    "### VARIABLES RECEIVING FUNCTION"
   ]
  },
  {
   "cell_type": "code",
   "execution_count": 1,
   "metadata": {},
   "outputs": [
    {
     "name": "stdout",
     "output_type": "stream",
     "text": [
      "4 * 2 = 8\n"
     ]
    }
   ],
   "source": [
    "def times_two(num):\n",
    "    return num * 2\n",
    "\n",
    "\n",
    "add_up_twice = times_two\n",
    "print(\"4 * 2 =\", add_up_twice(4))"
   ]
  },
  {
   "cell_type": "markdown",
   "metadata": {},
   "source": [
    " ### FUNCTIONS RECEIVING FUNCTIONS"
   ]
  },
  {
   "cell_type": "code",
   "execution_count": 2,
   "metadata": {},
   "outputs": [
    {
     "name": "stdout",
     "output_type": "stream",
     "text": [
      "8 * 2 = 16\n"
     ]
    }
   ],
   "source": [
    "def do_math(func, num):\n",
    "    return func(num)\n",
    "\n",
    "print(\"8 * 2 =\", do_math(times_two, 8))"
   ]
  },
  {
   "cell_type": "markdown",
   "metadata": {},
   "source": [
    "### FUNCTION THAT RETURNS A FUNCTION"
   ]
  },
  {
   "cell_type": "code",
   "execution_count": 5,
   "metadata": {},
   "outputs": [
    {
     "name": "stdout",
     "output_type": "stream",
     "text": [
      "5 * 9 = 45\n"
     ]
    }
   ],
   "source": [
    "def get_func_mult_by_number(num):\n",
    "    def mult_by(value):\n",
    "        return num * value\n",
    "    return mult_by\n",
    "\n",
    "generated_func = get_func_mult_by_number(5)\n",
    "print('5 * 9 =', generated_func(9))"
   ]
  },
  {
   "cell_type": "markdown",
   "metadata": {},
   "source": [
    "### LIST OF FUNCTIONS"
   ]
  },
  {
   "cell_type": "code",
   "execution_count": 6,
   "metadata": {},
   "outputs": [
    {
     "name": "stdout",
     "output_type": "stream",
     "text": [
      "5 * 9 = 45\n"
     ]
    }
   ],
   "source": [
    "list_of_funcs = [times_two, generated_func]\n",
    "print('5 * 9 =', list_of_funcs[1](9))"
   ]
  }
 ],
 "metadata": {
  "kernelspec": {
   "display_name": "Python 3",
   "language": "python",
   "name": "python3"
  },
  "language_info": {
   "codemirror_mode": {
    "name": "ipython",
    "version": 3
   },
   "file_extension": ".py",
   "mimetype": "text/x-python",
   "name": "python",
   "nbconvert_exporter": "python",
   "pygments_lexer": "ipython3",
   "version": "3.7.6"
  }
 },
 "nbformat": 4,
 "nbformat_minor": 4
}
