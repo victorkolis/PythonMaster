{
 "cells": [
  {
   "cell_type": "markdown",
   "metadata": {},
   "source": [
    "# RETURN ANSWER AS YES, NO"
   ]
  },
  {
   "cell_type": "code",
   "execution_count": 2,
   "metadata": {},
   "outputs": [
    {
     "name": "stdout",
     "output_type": "stream",
     "text": [
      "Enter the primitive: Victor Kolis\n",
      "The primitive type of this value is: <class 'str'>\n",
      "Is it only spaces? no\n",
      "Is it alphabetic? no\n",
      "Is it numeric? no\n",
      "Is it alphanumeric? no\n",
      "Is it upper? no\n",
      "Is it lower? no\n",
      "Is it capitalized? Yes\n"
     ]
    }
   ],
   "source": [
    "primitive = input('Enter the primitive: ')\n",
    "print('The primitive type of this value is:', type(primitive))\n",
    "print('Is it only spaces?', 'Yes' if primitive.isspace() else 'no')\n",
    "print('Is it alphabetic?', 'Yes' if primitive.isalpha() else 'no')\n",
    "print('Is it numeric?', 'Yes' if primitive.isnumeric() else 'no')\n",
    "print('Is it alphanumeric?', 'Yes' if primitive.isalnum() else 'no')\n",
    "print('Is it upper?', 'Yes' if primitive.isupper() else 'no')\n",
    "print('Is it lower?', 'Yes' if primitive.islower() else 'no')\n",
    "print('Is it capitalized?', 'Yes' if primitive.istitle() else 'no')"
   ]
  }
 ],
 "metadata": {
  "kernelspec": {
   "display_name": "Python 3",
   "language": "python",
   "name": "python3"
  },
  "language_info": {
   "codemirror_mode": {
    "name": "ipython",
    "version": 3
   },
   "file_extension": ".py",
   "mimetype": "text/x-python",
   "name": "python",
   "nbconvert_exporter": "python",
   "pygments_lexer": "ipython3",
   "version": "3.7.6"
  }
 },
 "nbformat": 4,
 "nbformat_minor": 4
}
