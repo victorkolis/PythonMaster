{
 "cells": [
  {
   "cell_type": "markdown",
   "metadata": {},
   "source": [
    "# PRIMITIVE TYPE\n",
    "\n",
    "### Challenge\n",
    "\n",
    "Make a program that displays the primitive you enter\n",
    "and all the information about it.\n",
    "e.g.\n",
    "```\n",
    "The primitive type of this value is: <class 'str'>\n",
    "Only spaces? False\n",
    "Is alphabetic? True\n",
    "Is numeric? False\n",
    "Is alphanumeric? True\n",
    "Is upper?\n",
    "Is lower?\n",
    "Is capitalized?\n",
    "```"
   ]
  },
  {
   "cell_type": "code",
   "execution_count": 2,
   "metadata": {},
   "outputs": [
    {
     "name": "stdout",
     "output_type": "stream",
     "text": [
      "Enter the primitive: primitive\n",
      "The primitive type of this value is: <class 'str'>\n",
      "Is it only spaces? False\n",
      "Is it alphabetic? True\n",
      "Is it numeric? False\n",
      "Is it alphanumeric? True\n",
      "Is it upper? False\n",
      "Is it lower? True\n",
      "Is it capitalized? False\n"
     ]
    }
   ],
   "source": [
    "primitive = input('Enter the primitive: ')\n",
    "print('The primitive type of this value is:', type(primitive))\n",
    "print('Is it only spaces?', primitive.isspace())\n",
    "print('Is it alphabetic?', primitive.isalpha())\n",
    "print('Is it numeric?', primitive.isnumeric())\n",
    "print('Is it alphanumeric?', primitive.isalnum())\n",
    "print('Is it upper?', primitive.isupper())\n",
    "print('Is it lower?', primitive.islower())\n",
    "print('Is it capitalized?', primitive.istitle())"
   ]
  }
 ],
 "metadata": {
  "kernelspec": {
   "display_name": "Python 3",
   "language": "python",
   "name": "python3"
  },
  "language_info": {
   "codemirror_mode": {
    "name": "ipython",
    "version": 3
   },
   "file_extension": ".py",
   "mimetype": "text/x-python",
   "name": "python",
   "nbconvert_exporter": "python",
   "pygments_lexer": "ipython3",
   "version": "3.7.6"
  }
 },
 "nbformat": 4,
 "nbformat_minor": 4
}
