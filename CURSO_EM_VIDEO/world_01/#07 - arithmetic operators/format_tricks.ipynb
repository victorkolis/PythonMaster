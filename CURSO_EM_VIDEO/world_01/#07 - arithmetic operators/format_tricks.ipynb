{
 "cells": [
  {
   "cell_type": "markdown",
   "metadata": {},
   "source": [
    "# FORMAT FUNCTION TRICKS"
   ]
  },
  {
   "cell_type": "code",
   "execution_count": 1,
   "metadata": {},
   "outputs": [
    {
     "name": "stdout",
     "output_type": "stream",
     "text": [
      "Enter your nameVictor\n",
      "Victor\n"
     ]
    }
   ],
   "source": [
    "name = input('Enter your name')\n",
    "print('{}'.format(name))"
   ]
  },
  {
   "cell_type": "code",
   "execution_count": 2,
   "metadata": {},
   "outputs": [
    {
     "name": "stdout",
     "output_type": "stream",
     "text": [
      "Enter your nameVictor\n",
      "Victor              \n"
     ]
    }
   ],
   "source": [
    "name = input('Enter your name')\n",
    "print('{:20}'.format(name))"
   ]
  },
  {
   "cell_type": "code",
   "execution_count": 3,
   "metadata": {},
   "outputs": [
    {
     "name": "stdout",
     "output_type": "stream",
     "text": [
      "Enter your nameVictor\n",
      "Victor              \n"
     ]
    }
   ],
   "source": [
    "name = input('Enter your name')\n",
    "print('{:<20}'.format(name))"
   ]
  },
  {
   "cell_type": "code",
   "execution_count": 4,
   "metadata": {},
   "outputs": [
    {
     "name": "stdout",
     "output_type": "stream",
     "text": [
      "Enter your nameVictor\n",
      "              Victor\n"
     ]
    }
   ],
   "source": [
    "name = input('Enter your name')\n",
    "print('{:>20}'.format(name))"
   ]
  },
  {
   "cell_type": "code",
   "execution_count": 6,
   "metadata": {},
   "outputs": [
    {
     "name": "stdout",
     "output_type": "stream",
     "text": [
      "=======VICTOR=======\n"
     ]
    }
   ],
   "source": [
    "name = 'VICTOR'\n",
    "print('{:=^20}'.format(name))"
   ]
  }
 ],
 "metadata": {
  "kernelspec": {
   "display_name": "Python 3",
   "language": "python",
   "name": "python3"
  },
  "language_info": {
   "codemirror_mode": {
    "name": "ipython",
    "version": 3
   },
   "file_extension": ".py",
   "mimetype": "text/x-python",
   "name": "python",
   "nbconvert_exporter": "python",
   "pygments_lexer": "ipython3",
   "version": "3.7.6"
  }
 },
 "nbformat": 4,
 "nbformat_minor": 4
}
