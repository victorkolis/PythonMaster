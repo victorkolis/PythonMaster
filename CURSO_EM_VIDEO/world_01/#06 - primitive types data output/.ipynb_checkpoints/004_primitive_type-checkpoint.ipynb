{
 "cells": [
  {
   "cell_type": "markdown",
   "metadata": {},
   "source": [
    "# PRIMITIVE TYPE\n",
    "\n",
    "### Challenge\n",
    "\n",
    "Make a program that displays the primitive you enter\n",
    "and all the information about it.\n",
    "e.g.\n",
    "```\n",
    "The primitive type of this value is: <class 'str'>\n",
    "Only spaces? False\n",
    "Is alphabetic? True\n",
    "Is numeric? False\n",
    "Is alphanumeric? True\n",
    "Is upper?\n",
    "Is lower?\n",
    "Is capitalized?\n",
    "```"
   ]
  },
  {
   "cell_type": "code",
   "execution_count": 1,
   "metadata": {},
   "outputs": [
    {
     "name": "stdout",
     "output_type": "stream",
     "text": [
      "Enter the primitive: 1\n",
      "1\n",
      "<class 'str'>\n"
     ]
    }
   ],
   "source": [
    "primitive = input('Enter the primitive: ')\n",
    "print('The primitive type of this value is:', type(primitive))\n",
    "print('Is it only spaces?', )\n",
    "print('Is it alphabetic?')\n",
    "print('Is it numeric?')\n",
    "print('Is it alphanumeric?')\n",
    "print('Is it upper?')\n",
    "print('Is it lower?')\n",
    "print('Is it capitalized?')\n"
   ]
  }
 ],
 "metadata": {
  "kernelspec": {
   "display_name": "Python 3",
   "language": "python",
   "name": "python3"
  },
  "language_info": {
   "codemirror_mode": {
    "name": "ipython",
    "version": 3
   },
   "file_extension": ".py",
   "mimetype": "text/x-python",
   "name": "python",
   "nbconvert_exporter": "python",
   "pygments_lexer": "ipython3",
   "version": "3.7.6"
  }
 },
 "nbformat": 4,
 "nbformat_minor": 4
}
