{
 "cells": [
  {
   "cell_type": "markdown",
   "metadata": {},
   "source": [
    "# Primitive types and data output "
   ]
  },
  {
   "cell_type": "code",
   "execution_count": 1,
   "metadata": {},
   "outputs": [
    {
     "name": "stdout",
     "output_type": "stream",
     "text": [
      "Enter a number: 10\n",
      "Enter another number: 13\n",
      "23\n"
     ]
    }
   ],
   "source": [
    "n1 = int(input('Enter a number: '))\n",
    "n2 = int(input('Enter another number: '))\n",
    "s = n1 + n2\n",
    "print(s)"
   ]
  },
  {
   "cell_type": "markdown",
   "metadata": {},
   "source": [
    "# Using the format() function/method"
   ]
  },
  {
   "cell_type": "code",
   "execution_count": 3,
   "metadata": {},
   "outputs": [
    {
     "name": "stdout",
     "output_type": "stream",
     "text": [
      "Enter a number: 10\n",
      "Enter another number: 13\n",
      "10 * 13 = 130\n"
     ]
    }
   ],
   "source": [
    "n1 = int(input('Enter a number: '))\n",
    "n2 = int(input('Enter another number: '))\n",
    "s = n1 * n2\n",
    "print('{} * {} = {}'.format(n1, n2, s))"
   ]
  },
  {
   "cell_type": "markdown",
   "metadata": {},
   "source": [
    "# Using the f string"
   ]
  },
  {
   "cell_type": "code",
   "execution_count": 4,
   "metadata": {},
   "outputs": [
    {
     "name": "stdout",
     "output_type": "stream",
     "text": [
      "Enter a number: 10\n",
      "Enter another number: 13\n",
      "10 // 13 = 0\n"
     ]
    }
   ],
   "source": [
    "n1 = int(input('Enter a number: '))\n",
    "n2 = int(input('Enter another number: '))\n",
    "s = n1 // n2\n",
    "print(f'{n1} // {n2} = {s}')"
   ]
  },
  {
   "cell_type": "markdown",
   "metadata": {},
   "source": [
    "# Using float"
   ]
  },
  {
   "cell_type": "code",
   "execution_count": 5,
   "metadata": {},
   "outputs": [
    {
     "name": "stdout",
     "output_type": "stream",
     "text": [
      "Enter a number: 3\n",
      "Enter another number: 7.4357\n",
      "3.0 + 7.4357 = 10.4357\n"
     ]
    }
   ],
   "source": [
    "n1 = float(input('Enter a number: '))\n",
    "n2 = float(input('Enter another number: '))\n",
    "s = n1 + n2\n",
    "print(f'{n1} + {n2} = {s}')"
   ]
  },
  {
   "cell_type": "markdown",
   "metadata": {},
   "source": [
    "# Using isnumeric() method"
   ]
  },
  {
   "cell_type": "code",
   "execution_count": 13,
   "metadata": {},
   "outputs": [
    {
     "name": "stdout",
     "output_type": "stream",
     "text": [
      "True\n",
      "False\n"
     ]
    }
   ],
   "source": [
    "n3 = '3'\n",
    "n4 = 'a'\n",
    "print(n3.isnumeric())\n",
    "print(n4.isnumeric())"
   ]
  },
  {
   "cell_type": "markdown",
   "metadata": {},
   "source": [
    "# Using isalpha() method"
   ]
  },
  {
   "cell_type": "code",
   "execution_count": 14,
   "metadata": {},
   "outputs": [
    {
     "name": "stdout",
     "output_type": "stream",
     "text": [
      "False\n",
      "True\n"
     ]
    }
   ],
   "source": [
    "n3 = '3'\n",
    "n4 = 'a'\n",
    "print(n3.isalpha())\n",
    "print(n4.isalpha())"
   ]
  },
  {
   "cell_type": "markdown",
   "metadata": {},
   "source": [
    "# Using isalnum() method"
   ]
  },
  {
   "cell_type": "code",
   "execution_count": 16,
   "metadata": {},
   "outputs": [
    {
     "name": "stdout",
     "output_type": "stream",
     "text": [
      "True\n",
      "True\n",
      "True\n"
     ]
    }
   ],
   "source": [
    "n3 = '3'\n",
    "n4 = 'a'\n",
    "n5 = n3 + n4\n",
    "print(n3.isalnum())\n",
    "print(n4.isalnum())\n",
    "print(n5.isalnum())"
   ]
  }
 ],
 "metadata": {
  "kernelspec": {
   "display_name": "Python 3",
   "language": "python",
   "name": "python3"
  },
  "language_info": {
   "codemirror_mode": {
    "name": "ipython",
    "version": 3
   },
   "file_extension": ".py",
   "mimetype": "text/x-python",
   "name": "python",
   "nbconvert_exporter": "python",
   "pygments_lexer": "ipython3",
   "version": "3.7.6"
  }
 },
 "nbformat": 4,
 "nbformat_minor": 4
}
