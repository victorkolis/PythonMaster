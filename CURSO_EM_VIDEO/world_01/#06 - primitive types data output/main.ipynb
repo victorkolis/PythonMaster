{
 "cells": [
  {
   "cell_type": "markdown",
   "metadata": {},
   "source": [
    "# Primitive types and data output "
   ]
  },
  {
   "cell_type": "code",
   "execution_count": 1,
   "metadata": {},
   "outputs": [
    {
     "name": "stdout",
     "output_type": "stream",
     "text": [
      "Enter a number: 10\n",
      "Enter another number: 13\n",
      "23\n"
     ]
    }
   ],
   "source": [
    "n1 = int(input('Enter a number: '))\n",
    "n2 = int(input('Enter another number: '))\n",
    "s = n1 + n2\n",
    "print(s)"
   ]
  },
  {
   "cell_type": "markdown",
   "metadata": {},
   "source": [
    "# Using the .format() function/method"
   ]
  },
  {
   "cell_type": "code",
   "execution_count": 3,
   "metadata": {},
   "outputs": [
    {
     "name": "stdout",
     "output_type": "stream",
     "text": [
      "Enter a number: 10\n",
      "Enter another number: 13\n",
      "10 * 13 = 130\n"
     ]
    }
   ],
   "source": [
    "n1 = int(input('Enter a number: '))\n",
    "n2 = int(input('Enter another number: '))\n",
    "s = n1 * n2\n",
    "print('{} * {} = {}'.format(n1, n2, s))"
   ]
  },
  {
   "cell_type": "markdown",
   "metadata": {},
   "source": [
    "# Using the f string"
   ]
  },
  {
   "cell_type": "code",
   "execution_count": 4,
   "metadata": {},
   "outputs": [
    {
     "name": "stdout",
     "output_type": "stream",
     "text": [
      "Enter a number: 10\n",
      "Enter another number: 13\n",
      "10 // 13 = 0\n"
     ]
    }
   ],
   "source": [
    "n1 = int(input('Enter a number: '))\n",
    "n2 = int(input('Enter another number: '))\n",
    "s = n1 // n2\n",
    "print(f'{n1} // {n2} = {s}')"
   ]
  },
  {
   "cell_type": "code",
   "execution_count": null,
   "metadata": {},
   "outputs": [],
   "source": []
  }
 ],
 "metadata": {
  "kernelspec": {
   "display_name": "Python 3",
   "language": "python",
   "name": "python3"
  },
  "language_info": {
   "codemirror_mode": {
    "name": "ipython",
    "version": 3
   },
   "file_extension": ".py",
   "mimetype": "text/x-python",
   "name": "python",
   "nbconvert_exporter": "python",
   "pygments_lexer": "ipython3",
   "version": "3.7.6"
  }
 },
 "nbformat": 4,
 "nbformat_minor": 4
}
